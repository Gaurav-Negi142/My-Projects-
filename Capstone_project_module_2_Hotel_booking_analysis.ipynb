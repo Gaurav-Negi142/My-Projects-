{
  "nbformat": 4,
  "nbformat_minor": 0,
  "metadata": {
    "colab": {
      "private_outputs": true,
      "provenance": [],
      "collapsed_sections": [
        "gIfDvo9L0UH2"
      ],
      "include_colab_link": true
    },
    "kernelspec": {
      "name": "python3",
      "display_name": "Python 3"
    },
    "language_info": {
      "name": "python"
    }
  },
  "cells": [
    {
      "cell_type": "markdown",
      "metadata": {
        "id": "view-in-github",
        "colab_type": "text"
      },
      "source": [
        "<a href=\"https://colab.research.google.com/github/Gaurav-Negi142/My-Projects-/blob/main/Capstone_project_module_2_Hotel_booking_analysis.ipynb\" target=\"_parent\"><img src=\"https://colab.research.google.com/assets/colab-badge.svg\" alt=\"Open In Colab\"/></a>"
      ]
    },
    {
      "cell_type": "markdown",
      "source": [
        "## **PROJECT NAME -  Booking.com(Hotel Booking Analysis)**\n",
        "\n"
      ],
      "metadata": {
        "id": "vncDsAP0Gaoa"
      }
    },
    {
      "cell_type": "markdown",
      "source": [
        "##### **Project Type**    - Classification\n",
        "##### **Contribution**    - Individual\n"
      ],
      "metadata": {
        "id": "beRrZCGUAJYm"
      }
    },
    {
      "cell_type": "markdown",
      "source": [
        "# **Project Summary -**"
      ],
      "metadata": {
        "id": "FJNUwmbgGyua"
      }
    },
    {
      "cell_type": "markdown",
      "source": [
        "\n",
        "  The Hotel Booking Analysis project, based on data from BOOKING.COM, offers valuable insights into the key factors influencing hotel bookings and customer behavior. By leveraging these insights, hotel managers can make data-driven decisions to optimize operations, enhance the guest experience, and increase overall profitability. The analysis highlights the significance of understanding booking trends, customer segmentation, and cancellation patterns in today’s highly competitive hospitality industry."
      ],
      "metadata": {
        "id": "F6v_1wHtG2nS"
      }
    },
    {
      "cell_type": "markdown",
      "source": [
        "# **GitHub Link -**"
      ],
      "metadata": {
        "id": "w6K7xa23Elo4"
      }
    },
    {
      "cell_type": "markdown",
      "source": [
        "https://github.com/Gaurav-Negi142/My-Projects-/blob/07f0abd0c4e13d47a8f6498de3fb45483453b335/Capstone_project_module_2_Hotel_booking_analysis.ipynb"
      ],
      "metadata": {
        "id": "h1o69JH3Eqqn"
      }
    },
    {
      "cell_type": "markdown",
      "source": [
        "# Key Features of the Dataset :"
      ],
      "metadata": {
        "id": "eF8tk5kGXv0i"
      }
    },
    {
      "cell_type": "markdown",
      "source": [
        "\n",
        "Hotel Type: Specifies the category of the hotel, such as City Hotel or Resort Hotel.\n",
        "\n",
        "Booking Time: Indicates when the booking was made relative to the check-in date.\n",
        "\n",
        "Check-in/Check-out Dates: Records the guest's arrival and departure dates.\n",
        "\n",
        "Length of Stay: Captures the duration of the stay, measured in nights.\n",
        "\n",
        "Booking Channels: Identifies the source of the booking, such as Online Travel Agencies, direct bookings, or travel agents.\n",
        "\n",
        "Customer Demographics: Provides customer information including country of origin, age, and gender.\n",
        "\n",
        "Booking Status: Reflects whether a booking was confirmed or canceled.\n",
        "\n",
        "Special Requests: Notes any specific requests made by the guests during the booking process.\n"
      ],
      "metadata": {
        "id": "k-QV1sxqX53q"
      }
    },
    {
      "cell_type": "markdown",
      "source": [
        "# **Problem Statement**\n"
      ],
      "metadata": {
        "id": "yQaldy8SH6Dl"
      }
    },
    {
      "cell_type": "markdown",
      "source": [
        "Key Questions to Address:\n",
        "Booking Trends:\n",
        "What are the peak booking periods (months or seasons)?\n",
        "Which types of rooms are most frequently booked?\n",
        "\n",
        "Customer Segmentation:\n",
        "What is the demographic profile of the customers (e.g., age, country)?\n",
        "How does booking behavior vary across different customer segments?\n",
        "\n",
        "Cancellation Analysis:\n",
        "What is the overall cancellation rate?\n",
        "What factors contribute to booking cancellations?\n",
        "\n",
        "Revenue Analysis:\n",
        "What is the average revenue per booking?\n",
        "How does revenue vary based on factors such as length of stay and room type?\n",
        "\n",
        "Channel Performance:\n",
        "Which booking channels are the most popular?\n",
        "How do different channels compare in terms of booking volume and revenue generation?\n",
        "\n",
        "Special Requests and Preferences:\n",
        "What are the most common special requests made by customers?\n",
        "How do special requests impact customer satisfaction and booking decisions?\n",
        "\n",
        "Analytical Approach:\n",
        "Data Cleaning and Preprocessing:\n",
        "Handle missing values and outliers to ensure data consistency and accuracy.\n",
        "\n",
        "Descriptive Statistics:\n",
        "Summarize key attributes to understand data distributions.\n",
        "Visualize trends and patterns using charts and graphs.\n",
        "\n",
        "Exploratory Data Analysis (EDA):\n",
        "Identify correlations and relationships between variables.\n",
        "Segment customers based on booking behavior and demographic profiles.\n",
        "\n",
        "Recommendation Generation:\n",
        "Provide actionable insights aimed at improving hotel performance, optimizing pricing strategies, and enhancing the customer experience.\n",
        "\n",
        "Expected Outcomes:\n",
        "Comprehensive insights into booking trends and customer behavior.\n",
        "Identification of key factors influencing bookings and cancellations.\n",
        "\n",
        "Actionable recommendations for optimizing the hotel’s booking processes and revenue management.\n",
        "Enhanced understanding of customer preferences and special request patterns.\n",
        "\n",
        "**By completing this analysis, hotel management will be equipped to make informed, data-driven decisions that optimize operational efficiency, enhance guest satisfaction, and increase overall profitability.**\n"
      ],
      "metadata": {
        "id": "DpeJGUA3kjGy"
      }
    },
    {
      "cell_type": "markdown",
      "source": [
        "#### **Business Objective**"
      ],
      "metadata": {
        "id": "PH-0ReGfmX4f"
      }
    },
    {
      "cell_type": "markdown",
      "source": [
        "The primary objective of this project is to analyze hotel booking data from BOOKING.COM to uncover patterns and insights that can help improve hotel operations, maximize revenue, and enhance customer satisfaction. By understanding booking trends, customer demographics, cancellation behaviors, revenue patterns, and channel performance, the project aims to provide actionable recommendations that enable hotel management to:\n",
        "\n",
        "Optimize pricing and promotional strategies based on booking patterns and customer segments.\n",
        "\n",
        "Reduce cancellation rates by identifying and addressing key contributing factors.\n",
        "\n",
        "Improve channel management by focusing on high-performing booking sources.\n",
        "\n",
        "Personalize customer experiences by catering to common preferences and special requests.\n",
        "\n",
        "Strengthen overall operational efficiency and profitability through data-driven decision-making.\n",
        "\n",
        "Ultimately, the goal is to empower hotels to make informed, strategic decisions that will strengthen their competitive position in the hospitality industry."
      ],
      "metadata": {
        "id": "PhDvGCAqmjP1"
      }
    },
    {
      "cell_type": "markdown",
      "source": [
        "# **General Guidelines** : -  "
      ],
      "metadata": {
        "id": "mDgbUHAGgjLW"
      }
    },
    {
      "cell_type": "markdown",
      "source": [
        "1.   Well-structured, formatted, and commented code is required.\n",
        "2.   Exception Handling, Production Grade Code & Deployment Ready Code will be a plus. Those students will be awarded some additional credits.\n",
        "     \n",
        "     The additional credits will have advantages over other students during Star Student selection.\n",
        "       \n",
        "             [ Note: - Deployment Ready Code is defined as, the whole .ipynb notebook should be executable in one go\n",
        "                       without a single error logged. ]\n",
        "\n",
        "3.   Each and every logic should have proper comments.\n",
        "4. You may add as many number of charts you want. Make Sure for each and every chart the following format should be answered.\n",
        "        \n",
        "\n",
        "```\n",
        "# Chart visualization code\n",
        "```\n",
        "            \n",
        "\n",
        "*   Why did you pick the specific chart?\n",
        "*   What is/are the insight(s) found from the chart?\n",
        "* Will the gained insights help creating a positive business impact?\n",
        "Are there any insights that lead to negative growth? Justify with specific reason.\n",
        "\n",
        "5. You have to create at least 20 logical & meaningful charts having important insights.\n",
        "\n",
        "\n",
        "[ Hints : - Do the Vizualization in  a structured way while following \"UBM\" Rule.\n",
        "\n",
        "U - Univariate Analysis,\n",
        "\n",
        "B - Bivariate Analysis (Numerical - Categorical, Numerical - Numerical, Categorical - Categorical)\n",
        "\n",
        "M - Multivariate Analysis\n",
        " ]\n",
        "\n",
        "\n",
        "\n"
      ],
      "metadata": {
        "id": "ZrxVaUj-hHfC"
      }
    },
    {
      "cell_type": "markdown",
      "source": [
        "# ***Let's Begin !***"
      ],
      "metadata": {
        "id": "O_i_v8NEhb9l"
      }
    },
    {
      "cell_type": "markdown",
      "source": [
        "## ***1. Know Your Data***"
      ],
      "metadata": {
        "id": "HhfV-JJviCcP"
      }
    },
    {
      "cell_type": "markdown",
      "source": [
        "### Import Libraries"
      ],
      "metadata": {
        "id": "Y3lxredqlCYt"
      }
    },
    {
      "cell_type": "code",
      "source": [
        "# Import Libraries\n",
        "import numpy as np\n",
        "import pandas as pd\n",
        "\n",
        "import matplotlib.pyplot as plt\n",
        "import seaborn as sns"
      ],
      "metadata": {
        "id": "M8Vqi-pPk-HR"
      },
      "execution_count": null,
      "outputs": []
    },
    {
      "cell_type": "markdown",
      "source": [
        "### Dataset Loading"
      ],
      "metadata": {
        "id": "3RnN4peoiCZX"
      }
    },
    {
      "cell_type": "code",
      "source": [
        "# Load Dataset\n",
        "from google.colab import drive\n",
        "drive.mount('/content/drive')"
      ],
      "metadata": {
        "id": "4CkvbW_SlZ_R"
      },
      "execution_count": null,
      "outputs": []
    },
    {
      "cell_type": "code",
      "source": [
        "file_path = \"/content/drive/MyDrive/project datasets/Hotel Bookings.csv\"\n",
        "Hotel_booking_df = pd.read_csv(file_path)"
      ],
      "metadata": {
        "id": "a58cB74BZB4r"
      },
      "execution_count": null,
      "outputs": []
    },
    {
      "cell_type": "markdown",
      "source": [
        "### Dataset First View"
      ],
      "metadata": {
        "id": "x71ZqKXriCWQ"
      }
    },
    {
      "cell_type": "code",
      "source": [
        "# Dataset First Look\n",
        "\n",
        "Hotel_booking_df"
      ],
      "metadata": {
        "id": "LWNFOSvLl09H"
      },
      "execution_count": null,
      "outputs": []
    },
    {
      "cell_type": "markdown",
      "source": [
        "### Dataset Rows & Columns count"
      ],
      "metadata": {
        "id": "7hBIi_osiCS2"
      }
    },
    {
      "cell_type": "code",
      "source": [
        "# Dataset Rows & Columns count\n",
        "num_rows = Hotel_booking_df.shape[0]\n",
        "num_columns = Hotel_booking_df.shape[1]\n",
        "\n",
        "print(f\"Number of rows: {num_rows}\")\n",
        "print(f\"Number of columns: {num_columns}\")"
      ],
      "metadata": {
        "id": "Kllu7SJgmLij"
      },
      "execution_count": null,
      "outputs": []
    },
    {
      "cell_type": "markdown",
      "source": [
        "### Dataset Information"
      ],
      "metadata": {
        "id": "JlHwYmJAmNHm"
      }
    },
    {
      "cell_type": "code",
      "source": [
        "# Dataset Info\n",
        "Hotel_booking_df.info()"
      ],
      "metadata": {
        "id": "e9hRXRi6meOf"
      },
      "execution_count": null,
      "outputs": []
    },
    {
      "cell_type": "markdown",
      "source": [
        "#### Duplicate Values"
      ],
      "metadata": {
        "id": "35m5QtbWiB9F"
      }
    },
    {
      "cell_type": "code",
      "source": [
        "# Dataset Duplicate Value Count\n",
        "duplicate_count = Hotel_booking_df.duplicated().sum()\n",
        "print(f\"Number of duplicate rows: {duplicate_count}\")"
      ],
      "metadata": {
        "id": "1sLdpKYkmox0"
      },
      "execution_count": null,
      "outputs": []
    },
    {
      "cell_type": "markdown",
      "source": [
        "#### Missing Values/Null Values"
      ],
      "metadata": {
        "id": "PoPl-ycgm1ru"
      }
    },
    {
      "cell_type": "code",
      "source": [
        "# Missing Values/Null Values Count\n",
        "missing_values = Hotel_booking_df.isnull().sum()\n",
        "print(missing_values)"
      ],
      "metadata": {
        "id": "GgHWkxvamxVg"
      },
      "execution_count": null,
      "outputs": []
    },
    {
      "cell_type": "code",
      "source": [
        "# Total missing values\n",
        "total_missing_values = missing_values.sum()\n",
        "print(f\"Total number of missing values: {total_missing_values}\")"
      ],
      "metadata": {
        "id": "bKVHFHCELwXX"
      },
      "execution_count": null,
      "outputs": []
    },
    {
      "cell_type": "code",
      "source": [
        "# Visualizing the missing values\n",
        "plt.figure(figsize=(10, 6))\n",
        "sns.heatmap(Hotel_booking_df.isnull(), cbar=False, cmap='viridis')\n",
        "plt.title('Missing Values Heatmap')\n",
        "plt.show()"
      ],
      "metadata": {
        "id": "3q5wnI3om9sJ"
      },
      "execution_count": null,
      "outputs": []
    },
    {
      "cell_type": "markdown",
      "source": [
        "### What did you know about your dataset?"
      ],
      "metadata": {
        "id": "H0kj-8xxnORC"
      }
    },
    {
      "cell_type": "markdown",
      "source": [
        "The given dataset is from \"Booking.com - Hotel Booking Analysis\", where the objective is to analyze the data and extract meaningful insights.\n",
        "\n",
        "So far, we have Imported the necessary libraries,Loaded the dataset,Performed an initial data quality check focusing on duplicate and missing values.\n",
        "\n",
        "These checks are critical, as duplicates and missing values can significantly impact the accuracy of the analysis and the reliability of the insights derived from the data.\n",
        "\n",
        "Key findings:\n",
        "\n",
        "Duplicate values: 31,994 duplicate records were identified.\n",
        "Missing values: A total of 129,425 missing values were found, spread across three different columns.\n",
        "\n",
        "Identifying and addressing these issues early ensures a cleaner and more trustworthy dataset for deeper analysis.\n",
        "\n"
      ],
      "metadata": {
        "id": "gfoNAAC-nUe_"
      }
    },
    {
      "cell_type": "markdown",
      "source": [
        "## ***2. Understanding Your Variables***"
      ],
      "metadata": {
        "id": "nA9Y7ga8ng1Z"
      }
    },
    {
      "cell_type": "code",
      "source": [
        "# Dataset Columns\n",
        "column_names = Hotel_booking_df.columns\n",
        "print(column_names)"
      ],
      "metadata": {
        "id": "j7xfkqrt5Ag5"
      },
      "execution_count": null,
      "outputs": []
    },
    {
      "cell_type": "code",
      "source": [
        "# Checking the column's info\n",
        "column_info = Hotel_booking_df.info()"
      ],
      "metadata": {
        "id": "GbpYcGKbWG4f"
      },
      "execution_count": null,
      "outputs": []
    },
    {
      "cell_type": "code",
      "source": [
        "# Dataset Describe\n",
        "Hotel_booking_df.describe(include = 'all')"
      ],
      "metadata": {
        "id": "DnOaZdaE5Q5t"
      },
      "execution_count": null,
      "outputs": []
    },
    {
      "cell_type": "markdown",
      "source": [
        "### Variables Description"
      ],
      "metadata": {
        "id": "PBTbrJXOngz2"
      }
    },
    {
      "cell_type": "markdown",
      "source": [
        "#\n",
        "\n",
        "| Variable Name                    | Description                                                                 |\n",
        "|----------------------------------|-----------------------------------------------------------------------------|\n",
        "| `hotel`                          | Type of hotel: Resort Hotel or City Hotel.                                  |\n",
        "| `is_canceled`                    | Indicates if the booking was canceled or not.                               |\n",
        "| `lead_time`                      | Number of days between booking date and arrival date.                       |\n",
        "| `arrival_date_year`             | Year of arrival date.                                                       |\n",
        "| `arrival_date_month`            | Month of arrival date (e.g., January to December).                          |\n",
        "| `arrival_date_week_number`      | Week number of the year for the arrival date.                               |\n",
        "| `arrival_date_day_of_month`     | Day of the month for arrival.                                               |\n",
        "| `stays_in_weekend_nights`       | Number of weekend nights (Saturday/Sunday) the guest stayed.                |\n",
        "| `stays_in_week_nights`          | Number of week nights (Monday to Friday) the guest stayed.                  |\n",
        "| `adults`                         | Number of adults included in the booking.                                   |\n",
        "| `children`                       | Number of children included in the booking.                                 |\n",
        "| `babies`                         | Number of babies included in the booking.                                   |\n",
        "| `meal`                           | Type of meal plan booked.                                                   |\n",
        "| `country`                        | Country of origin of the guest (represented by ISO country code).           |\n",
        "| `market_segment`                 | Market segment through which the booking was made.                          |\n",
        "| `distribution_channel`          | Channel through which the booking was distributed.                          |\n",
        "| `is_repeated_guest`             | Indicates whether the guest has booked before.                              |\n",
        "| `previous_cancellations`        | Number of previous bookings that were canceled by the guest.                |\n",
        "| `previous_bookings_not_canceled`| Number of previous bookings that were not canceled.                         |\n",
        "| `reserved_room_type`            | Code for the room type initially reserved.                                  |\n",
        "| `assigned_room_type`            | Code for the room type actually assigned.                                   |\n",
        "| `booking_changes`               | Number of changes made to the booking.                                      |\n",
        "| `deposit_type`                  | Indicates whether a deposit was made and its type.                          |\n",
        "| `agent`                          | ID of the booking agent who made the reservation.                           |\n",
        "| `company`                        | ID of the company that made the booking.                                    |\n",
        "| `booking_type`                  | Source of the booking — individual, agent, or company.                      |\n",
        "| `days_in_waiting_list`          | Number of days the booking stayed on the waiting list.                      |\n",
        "| `customer_type`                 | Type of customer based on contract and stay patterns.                       |\n",
        "| `adr`                            | Average Daily Rate — the average price per occupied room.                   |\n",
        "| `required_car_parking_spaces`   | Number of car parking spaces requested by the guest.                        |\n",
        "| `total_of_special_requests`     | Number of special requests made by the guest.                               |\n",
        "| `reservation_status`            | Current status of the reservation: Canceled, No-Show, or Checked-Out.       |\n",
        "| `reservation_status_date`       | Date on which the reservation status was last updated.                      |"
      ],
      "metadata": {
        "id": "aJV4KIxSnxay"
      }
    },
    {
      "cell_type": "markdown",
      "source": [
        "### Check Unique Values for each variable."
      ],
      "metadata": {
        "id": "u3PMJOP6ngxN"
      }
    },
    {
      "cell_type": "code",
      "source": [
        "# Check Unique Values for each column\n",
        "unique_df = pd.DataFrame({\n",
        "    'unique_values': [Hotel_booking_df[col].dropna().unique().tolist() for col in Hotel_booking_df.columns]\n",
        "}, index=Hotel_booking_df.columns)\n",
        "unique_df"
      ],
      "metadata": {
        "id": "zms12Yq5n-jE"
      },
      "execution_count": null,
      "outputs": []
    },
    {
      "cell_type": "markdown",
      "source": [
        "## 3. ***Data Wrangling***"
      ],
      "metadata": {
        "id": "dauF4eBmngu3"
      }
    },
    {
      "cell_type": "markdown",
      "source": [
        "Correcting the Data Types"
      ],
      "metadata": {
        "id": "uBrOxBSFMvXB"
      }
    },
    {
      "cell_type": "code",
      "source": [
        "# Change Data-Type\n",
        "Hotel_booking_df['is_canceled'] = Hotel_booking_df['is_canceled'].astype(bool)\n",
        "\n",
        "Hotel_booking_df['is_repeated_guest'] = Hotel_booking_df['is_repeated_guest'].astype(bool)"
      ],
      "metadata": {
        "id": "k3O9enp7MuTq"
      },
      "execution_count": null,
      "outputs": []
    },
    {
      "cell_type": "markdown",
      "source": [
        "### Data Wrangling Code"
      ],
      "metadata": {
        "id": "bKJF3rekwFvQ"
      }
    },
    {
      "cell_type": "markdown",
      "source": [
        "Removing duplicate values :"
      ],
      "metadata": {
        "id": "pSSYOvuKPZ91"
      }
    },
    {
      "cell_type": "code",
      "source": [
        "# Write your code to make your dataset analysis ready.\n",
        "\n",
        "print(f\"Number of duplicate rows: {duplicate_count}\")\n",
        "# Removing the Duplicaate values\n",
        "Hotel_booking_df.drop_duplicates(inplace=True)\n",
        "# Checking\n",
        "duplicate_count = Hotel_booking_df.duplicated().sum()\n",
        "print(f\"Number of remaining duplicate rows: {duplicate_count}\")"
      ],
      "metadata": {
        "id": "wk-9a2fpoLcV"
      },
      "execution_count": null,
      "outputs": []
    },
    {
      "cell_type": "markdown",
      "source": [
        "Handling with missing values :"
      ],
      "metadata": {
        "id": "nzYRotHmPmjt"
      }
    },
    {
      "cell_type": "code",
      "source": [
        "# Handling the missing values\n",
        "\n",
        "Hotel_booking_df['booking_type'] = Hotel_booking_df.apply(lambda row: 'agent' if pd.notna(row['agent']) else ('company' if pd.notna(row['company']) else 'Individual Booking'), axis=1)\n",
        "col_data = Hotel_booking_df['booking_type']\n",
        "Hotel_booking_df = Hotel_booking_df.drop(columns=['booking_type'])\n",
        "Hotel_booking_df.insert(25, 'booking_type', col_data)\n"
      ],
      "metadata": {
        "id": "wQSWVgHBPuN7"
      },
      "execution_count": null,
      "outputs": []
    },
    {
      "cell_type": "code",
      "source": [
        "# Handling outliers\n",
        "Q1 = Hotel_booking_df['lead_time'].quantile(0.25)\n",
        "Q3 = Hotel_booking_df['lead_time'].quantile(0.75)\n",
        "IQR = Q3 - Q1\n",
        "outliers = Hotel_booking_df[\n",
        "    (Hotel_booking_df['lead_time'] < Q1 - 1.5 * IQR)|(Hotel_booking_df['lead_time'] > Q3 + 1.5 * IQR)]\n",
        "lower = Q1 - 1.5 * IQR\n",
        "upper = Q3 + 1.5 * IQR\n",
        "\n",
        "Hotel_booking_df['lead_time'] = np.where(Hotel_booking_df['lead_time'] > upper, upper, np.where(Hotel_booking_df['lead_time'] < lower, lower, Hotel_booking_df['lead_time']))"
      ],
      "metadata": {
        "id": "k8Tq4E3Ctlgi"
      },
      "execution_count": null,
      "outputs": []
    },
    {
      "cell_type": "code",
      "source": [
        "Hotel_booking_df.info()"
      ],
      "metadata": {
        "id": "_DPo0xVTZ3x1"
      },
      "execution_count": null,
      "outputs": []
    },
    {
      "cell_type": "code",
      "source": [
        "unique_df = pd.DataFrame({\n",
        "    'unique_values': [Hotel_booking_df[col].dropna().unique().tolist() for col in Hotel_booking_df.columns]\n",
        "}, index=Hotel_booking_df.columns)\n",
        "unique_df"
      ],
      "metadata": {
        "id": "7-I9cwE6K67J"
      },
      "execution_count": null,
      "outputs": []
    },
    {
      "cell_type": "markdown",
      "source": [
        "### What all manipulations have you done and insights you found?"
      ],
      "metadata": {
        "id": "MSa1f5Uengrz"
      }
    },
    {
      "cell_type": "markdown",
      "source": [
        "In the data wrangling phase, we first identified 31,994 duplicate rows, which were removed using Pandas' drop_duplicates() function, as duplicates can distort insights. Next, we assessed missing values. While a few country names were missing and deemed negligible, a significant amount of data was missing in the \"agent\" (16,340) and \"company\" (112,593) columns. These columns represent who made the booking. Based on domain knowledge, bookings generally fall into three categories: agent, company, or individual. To capture this, we created a new column, \"booking_type\", indicating the booking source for each record."
      ],
      "metadata": {
        "id": "LbyXE7I1olp8"
      }
    },
    {
      "cell_type": "markdown",
      "source": [
        "## ***4. Data Vizualization, Storytelling & Experimenting with charts : Understand the relationships between variables***"
      ],
      "metadata": {
        "id": "GF8Ens_Soomf"
      }
    },
    {
      "cell_type": "markdown",
      "source": [
        "#### Chart - 1"
      ],
      "metadata": {
        "id": "_NFZLWNVE4c2"
      }
    },
    {
      "cell_type": "code",
      "source": [
        "# Chart - 1 visualization code\n",
        "# Box plot for checking outliers\n",
        "# Set the figure size\n",
        "plt.figure(figsize=(5,8))\n",
        "\n",
        "# Create the boxplot\n",
        "sns.boxplot(data=Hotel_booking_df[['lead_time', ]], palette='Set2')\n",
        "\n",
        "# Add title and axis labels\n",
        "plt.title('Boxplot of Lead Time', fontsize=16)\n",
        "plt.xlabel('Booking Features', fontsize=12)\n",
        "plt.ylabel('Values', fontsize=12)\n",
        "\n",
        "# Show grid for better readability\n",
        "plt.grid(True, linestyle='--', alpha=0.5)\n",
        "\n",
        "# Display the plot\n",
        "plt.tight_layout()\n",
        "plt.show()"
      ],
      "metadata": {
        "id": "Kxni2Dz6E0Y_"
      },
      "execution_count": null,
      "outputs": []
    },
    {
      "cell_type": "markdown",
      "source": [
        "##### 1. Why did you pick the specific chart?"
      ],
      "metadata": {
        "id": "iUq3_zmKFMte"
      }
    },
    {
      "cell_type": "markdown",
      "source": [
        "Box plots are ideal for identifying outliers in numerical data by showing the data distribution and highlighting values that lie beyond the typical range.\n",
        "\n",
        "Box plots helped me:\n",
        "*  Detect extreme values that might distort the overall analysis (e.g., very high lead times or unusually long stays).\n",
        "*  Understand the spread, median, and skewness of the data.\n",
        "\n"
      ],
      "metadata": {
        "id": "U0zxVFQFFTo-"
      }
    },
    {
      "cell_type": "markdown",
      "source": [
        "##### 2. What is/are the insight(s) found from the chart?"
      ],
      "metadata": {
        "id": "cgdtx3yUIdzQ"
      }
    },
    {
      "cell_type": "markdown",
      "source": [
        "1. There is a large number of outliers in lead_time, showing that some bookings were made very far in advance, which is not typical.\n",
        "\n",
        "2. Most bookings happen with short to moderate lead times, indicating guests often book closer to their travel dates."
      ],
      "metadata": {
        "id": "CXLfgrf2IkYE"
      }
    },
    {
      "cell_type": "markdown",
      "source": [
        "##### 3. Will the gained insights help creating a positive business impact?\n",
        "Are there any insights that lead to negative growth? Justify with specific reason."
      ],
      "metadata": {
        "id": "oEnknU08IzNu"
      }
    },
    {
      "cell_type": "markdown",
      "source": [
        "**positive business impact. :**\n",
        "\n",
        "Understanding the booking behavior and stay duration helps hotel management:\n",
        "1. Optimize inventory and staffing based on expected lead times and stay lengths.\n",
        "2. Design targeted promotions for short-lead or long-stay bookings.\n",
        "3. Reduce last-minute cancellation risk by offering incentives for early bookings.\n",
        "\n",
        "**Negative growth :**\n",
        "\n",
        "Yes. The high number of outliers in lead time suggests many bookings are made far in advance and may later be canceled, increasing unpredictability.\n",
        "This can lead to:\n",
        "1. Revenue loss from unused inventory.\n",
        "2. Operational inefficiencies due to unexpected booking changes."
      ],
      "metadata": {
        "id": "KNKMZBiII48f"
      }
    },
    {
      "cell_type": "markdown",
      "source": [
        "#### Chart - 2"
      ],
      "metadata": {
        "id": "0wOQAZs5pc--"
      }
    },
    {
      "cell_type": "code",
      "source": [
        "# Chart - 2 visualization code\n",
        "\n",
        "# Pie chart of hotel type\n",
        "hotel_counts = Hotel_booking_df['hotel'].value_counts()\n",
        "plt.figure(figsize=(6, 6))\n",
        "plt.pie(hotel_counts, labels=hotel_counts.index, autopct='%1.1f%%', startangle=90)\n",
        "plt.title('Distribution of Hotel Type')\n",
        "plt.axis('equal')  # Equal aspect ratio ensures that pie is drawn as a circle.\n",
        "plt.show()\n"
      ],
      "metadata": {
        "id": "7v_ESjsspbW7"
      },
      "execution_count": null,
      "outputs": []
    },
    {
      "cell_type": "markdown",
      "source": [
        "##### 1. Why did you pick the specific chart?"
      ],
      "metadata": {
        "id": "K5QZ13OEpz2H"
      }
    },
    {
      "cell_type": "markdown",
      "source": [
        "To begin our analysis, we ask:\n",
        "\"What percentage of bookings come from Resort Hotel vs. City Hotel?\"\n",
        "\n",
        "Since this is a categorical variable with two distinct categories, a pie chart is an effective choice. It clearly shows the proportion of each hotel type in the dataset, providing a quick and intuitive visual summary of the distribution"
      ],
      "metadata": {
        "id": "XESiWehPqBRc"
      }
    },
    {
      "cell_type": "markdown",
      "source": [
        "##### 2. What is/are the insight(s) found from the chart?"
      ],
      "metadata": {
        "id": "lQ7QKXXCp7Bj"
      }
    },
    {
      "cell_type": "markdown",
      "source": [
        "The pie chart reveals the proportion of total bookings made for each hotel type: Resort Hotel vs. City Hotel\n",
        "\n",
        "City Hotels have a significantly larger share, it may indicate that:\n",
        "\n",
        "City hotels are more popular,More accessible for business or travel needs,Or better availability and pricing compared to resort hotels.\n",
        "\n",
        "---\n",
        "\n",
        "The histogram shows how data is distributed across lead_time :\n",
        "\n",
        "You can see if most bookings are made last-minute or well in advance.\n",
        "Spikes or long tails can reveal unusual booking patterns or potential issues."
      ],
      "metadata": {
        "id": "C_j1G7yiqdRP"
      }
    },
    {
      "cell_type": "markdown",
      "source": [
        "##### 3. Will the gained insights help creating a positive business impact?\n",
        "Are there any insights that lead to negative growth? Justify with specific reason."
      ],
      "metadata": {
        "id": "448CDAPjqfQr"
      }
    },
    {
      "cell_type": "markdown",
      "source": [
        "Business Impact insights from Pie chart :\n",
        "\n",
        "Uses:\n",
        "\n",
        "*  Helps stakeholders understand customer preferences.\n",
        "*  Useful for marketing strategies or resource allocation (e.g., focusing promotions on underbooked hotel types).\n",
        "\n",
        "factors contributing to negative growth in bookings or revenue in pie chart.  \n",
        "pie chart shows that Resort Hotels have a significantly lower share of bookings compared to City Hotels, it could indicate underperformance.\n",
        "\n",
        "*   This might be due to seasonal demand, poor accessibility, or lack of marketing.\n",
        "*   It may also reflect customer dissatisfaction with resort experiences or facilities.\n",
        "\n",
        "Long-term imbalance may lead to revenue decline or overhead strain on underutilized properties.\n",
        "\n",
        "\n",
        "---\n",
        "\n",
        "\n",
        "Business Impact insights from Histogram :\n",
        "Helps in demand forecasting, pricing strategy, and understanding customer booking behavior.\n",
        "\n",
        "Long Lead Times or High Cancellation Rates (Histogram of lead_time)\n",
        "Insight:\n",
        "A histogram of lead_time that shows a high frequency of very long lead times (e.g., bookings made 200+ days in advance) might correlate with higher cancellation rates.\n",
        "\n",
        "Justification:\n",
        "\n",
        "Long lead times are often speculative or for large group bookings.\n",
        "\n",
        "They are more likely to be canceled, especially if no deposit is required.\n",
        "\n",
        "This results in poor forecasting, lost inventory, and lost revenue."
      ],
      "metadata": {
        "id": "3cspy4FjqxJW"
      }
    },
    {
      "cell_type": "markdown",
      "source": [
        "#### Chart - 3"
      ],
      "metadata": {
        "id": "KSlN3yHqYklG"
      }
    },
    {
      "cell_type": "code",
      "source": [
        "# Chart - 3 visualization code\n",
        "plt.figure(figsize=(8, 6))\n",
        "# Count values and sort them for better visual arrangement\n",
        "status_counts = Hotel_booking_df['reservation_status'].value_counts().sort_values(ascending=False)\n",
        "hotel_counts = Hotel_booking_df['hotel'].value_counts()\n",
        "# Create the bar chart using sorted categories\n",
        "ax = sns.barplot(x=status_counts.index,y=status_counts.values,palette='Set2', hue = status_counts.index, legend = False )\n",
        "# Annotate each bar with its value\n",
        "for i, count in enumerate(status_counts.values):\n",
        "    ax.text(i, count + 100, str(count), ha='center', va='bottom', fontsize=10)\n",
        "\n",
        "# Set plot titles and labels\n",
        "plt.title('Reservation Status Counts', fontsize=16)\n",
        "plt.xlabel('Reservation Status', fontsize=12)\n",
        "plt.ylabel('Count', fontsize=12)\n",
        "\n",
        "\n",
        "plt.tight_layout()\n",
        "\n",
        "# Show the plot\n",
        "print(f\"Total number of bookings: {len(Hotel_booking_df)}\")\n",
        "plt.show()"
      ],
      "metadata": {
        "id": "t6GMdE67YoAp"
      },
      "execution_count": null,
      "outputs": []
    },
    {
      "cell_type": "markdown",
      "source": [
        "##### 1. Why did you pick the specific chart?"
      ],
      "metadata": {
        "id": "t6dVpIINYklI"
      }
    },
    {
      "cell_type": "markdown",
      "source": [
        "I chose a bar chart for this analysis because it clearly visualizes the frequency of categorical values, making it easier to compare categories at a glance."
      ],
      "metadata": {
        "id": "5aaW0BYyYklI"
      }
    },
    {
      "cell_type": "markdown",
      "source": [
        "##### 2. What is/are the insight(s) found from the chart?"
      ],
      "metadata": {
        "id": "ijmpgYnKYklI"
      }
    },
    {
      "cell_type": "markdown",
      "source": [
        "The bar plot illustrates the distribution of hotel booking reservation statuses. It highlights that the majority of bookings result in check-outs, indicating successful stays. However, a considerable number of cancellations suggest potential revenue loss and areas where customer retention strategies could be improved."
      ],
      "metadata": {
        "id": "PSx9atu2YklI"
      }
    },
    {
      "cell_type": "markdown",
      "source": [
        "##### 3. Will the gained insights help creating a positive business impact?\n",
        "Are there any insights that lead to negative growth? Justify with specific reason."
      ],
      "metadata": {
        "id": "-JiQyfWJYklI"
      }
    },
    {
      "cell_type": "markdown",
      "source": [
        " the insights can help create a positive business impact by identifying areas where customer experience or policies could be improved to reduce cancellations.\n",
        "\n",
        " The high cancellation rate is a key indicator of negative growth, as it directly impacts revenue. Understanding the reasons behind these cancellations can help the hotel adjust pricing, improve communication, or offer flexible booking policies to convert more bookings into successful check-outs."
      ],
      "metadata": {
        "id": "BcBbebzrYklV"
      }
    },
    {
      "cell_type": "markdown",
      "source": [
        "#### Chart - 4"
      ],
      "metadata": {
        "id": "EM7whBJCYoAo"
      }
    },
    {
      "cell_type": "code",
      "source": [
        "# Chart - 4 visualization code\n",
        "# Histogram of lead time\n",
        "plt.figure(figsize=(8, 5))\n",
        "sns.histplot(Hotel_booking_df['lead_time'], bins=20, kde=True)\n",
        "plt.title('Distribution of Lead Time')\n",
        "plt.xlabel('Lead Time (days)')\n",
        "plt.ylabel('Frequency')\n",
        "plt.show()"
      ],
      "metadata": {
        "id": "R4YgtaqtYklH"
      },
      "execution_count": null,
      "outputs": []
    },
    {
      "cell_type": "markdown",
      "source": [
        "##### 1. Why did you pick the specific chart?"
      ],
      "metadata": {
        "id": "fge-S5ZAYoAp"
      }
    },
    {
      "cell_type": "markdown",
      "source": [
        "I chose a histogram for this analysis because it effectively displays the distribution of continuous data. It helps identify skewness, clusters, and gaps, and makes it easier to spot potential outliers or long tails in the dataset, especially for variables like lead time."
      ],
      "metadata": {
        "id": "5dBItgRVYoAp"
      }
    },
    {
      "cell_type": "markdown",
      "source": [
        "##### 2. What is/are the insight(s) found from the chart?"
      ],
      "metadata": {
        "id": "85gYPyotYoAp"
      }
    },
    {
      "cell_type": "markdown",
      "source": [
        "The histogram reveals the distribution of lead times for bookings. It shows that a significant number of reservations are made with short notice, indicating a trend toward last-minute bookings."
      ],
      "metadata": {
        "id": "4jstXR6OYoAp"
      }
    },
    {
      "cell_type": "markdown",
      "source": [
        "##### 3. Will the gained insights help creating a positive business impact?\n",
        "Are there any insights that lead to negative growth? Justify with specific reason."
      ],
      "metadata": {
        "id": "RoGjAbkUYoAp"
      }
    },
    {
      "cell_type": "markdown",
      "source": [
        "identifying that most bookings have short lead times allows hotels to optimize last-minute marketing strategies and manage inventory more efficiently.\n",
        "\n",
        "As we can see there is a large amount of last-moment booking, which can lead to problems such as unpredictable demand, difficulties in staff scheduling, and inefficient inventory management, ultimately affecting customer service quality and revenue optimization."
      ],
      "metadata": {
        "id": "zfJ8IqMcYoAp"
      }
    },
    {
      "cell_type": "markdown",
      "source": [
        "#### Chart - 5"
      ],
      "metadata": {
        "id": "4Of9eVA-YrdM"
      }
    },
    {
      "cell_type": "code",
      "source": [
        "# Chart - 5 visualization code\n",
        "# Convert arrival month and year to a single datetime column\n",
        "Hotel_booking_df['arrival_date'] = pd.to_datetime(Hotel_booking_df['arrival_date_year'].astype(str) + '-' + Hotel_booking_df['arrival_date_month'] + '-01',format='%Y-%B-%d')\n",
        "\n",
        "# Group by hotel type and arrival date, then count number of bookings\n",
        "monthly_hotel_bookings = Hotel_booking_df.groupby(['hotel', 'arrival_date']).size().reset_index(name='num_bookings')\n",
        "\n",
        "# Plot the line chart with 'hotel' as hue to differentiate Resort and City hotels\n",
        "plt.figure(figsize=(18, 6))\n",
        "sns.lineplot(data=monthly_hotel_bookings, x='arrival_date', y='num_bookings', hue='hotel', marker='o')\n",
        "\n",
        "# Add titles and labels\n",
        "plt.title('Monthly Hotel Bookings Over Time by Hotel Type', fontsize=16)\n",
        "plt.xlabel('Arrival Date (Month-Year)', fontsize=12)\n",
        "plt.ylabel('Number of Bookings', fontsize=12)\n",
        "plt.xticks(rotation=45)\n",
        "plt.grid(True)\n",
        "plt.tight_layout()\n",
        "\n",
        "# Show the plot\n",
        "plt.show()"
      ],
      "metadata": {
        "id": "irlUoxc8YrdO"
      },
      "execution_count": null,
      "outputs": []
    },
    {
      "cell_type": "markdown",
      "source": [
        "##### 1. Why did you pick the specific chart?"
      ],
      "metadata": {
        "id": "iky9q4vBYrdO"
      }
    },
    {
      "cell_type": "markdown",
      "source": [
        "The line chart effectively illustrates booking trends over time, making it easier to assess business growth and identify seasonal patterns."
      ],
      "metadata": {
        "id": "aJRCwT6DYrdO"
      }
    },
    {
      "cell_type": "markdown",
      "source": [
        "##### 2. What is/are the insight(s) found from the chart?"
      ],
      "metadata": {
        "id": "F6T5p64dYrdO"
      }
    },
    {
      "cell_type": "markdown",
      "source": [
        "The chart shows that City Hotels exhibit overall growth throughout the year, particularly peaking in the third quarter. In contrast, Resort Hotels demonstrate stagnated growth, with no significant upward trend across the same period."
      ],
      "metadata": {
        "id": "Xx8WAJvtYrdO"
      }
    },
    {
      "cell_type": "markdown",
      "source": [
        "##### 3. Will the gained insights help creating a positive business impact?\n",
        "Are there any insights that lead to negative growth? Justify with specific reason."
      ],
      "metadata": {
        "id": "y-Ehk30pYrdP"
      }
    },
    {
      "cell_type": "markdown",
      "source": [
        "the gained insights can help create a positive business impact by highlighting growth trends in City Hotels, especially in the third quarter. This can guide strategic decisions such as targeted promotions during peak months.\n",
        "\n",
        "However, the stagnation in Resort Hotel bookings indicates a potential area of concern, signaling negative growth. This could be due to seasonal factors, location-specific limitations, or lack of marketing, which, if not addressed, may lead to reduced revenue and missed business opportunities."
      ],
      "metadata": {
        "id": "jLNxxz7MYrdP"
      }
    },
    {
      "cell_type": "markdown",
      "source": [
        "#### Chart - 6"
      ],
      "metadata": {
        "id": "bamQiAODYuh1"
      }
    },
    {
      "cell_type": "code",
      "source": [
        "# Chart - 6 visualization code\n",
        "month_heatmap = Hotel_booking_df.pivot_table(index='arrival_date_year',columns='arrival_date_month',values='hotel',aggfunc='count')\n",
        "\n",
        "# Optional: sort months in calendar order\n",
        "month_order = ['January', 'February', 'March', 'April', 'May', 'June','July', 'August', 'September', 'October', 'November', 'December']\n",
        "month_heatmap = month_heatmap[month_order]\n",
        "\n",
        "# Plot heatmap\n",
        "plt.figure(figsize=(12, 6))\n",
        "sns.heatmap(month_heatmap, cmap='YlOrBr', annot=True, fmt='g')\n",
        "plt.title('Heatmap of Bookings by Month and Year')\n",
        "plt.xlabel('Month')\n",
        "plt.ylabel('Year')\n",
        "plt.tight_layout()\n",
        "plt.show()"
      ],
      "metadata": {
        "id": "TIJwrbroYuh3"
      },
      "execution_count": null,
      "outputs": []
    },
    {
      "cell_type": "markdown",
      "source": [
        "##### 1. Why did you pick the specific chart?"
      ],
      "metadata": {
        "id": "QHF8YVU7Yuh3"
      }
    },
    {
      "cell_type": "markdown",
      "source": [
        "I chose heatmaps because they provide a clear and intuitive visual representation of booking density across time. By mapping months  against years, heatmaps help quickly identify seasonal trends, peak booking periods, and patterns in customer behavior over multiple years."
      ],
      "metadata": {
        "id": "dcxuIMRPYuh3"
      }
    },
    {
      "cell_type": "markdown",
      "source": [
        "##### 2. What is/are the insight(s) found from the chart?"
      ],
      "metadata": {
        "id": "GwzvFGzlYuh3"
      }
    },
    {
      "cell_type": "markdown",
      "source": [
        "for this heat map chart we get these 2 insights :\n",
        "1. The chart shows a consistent year-over-year increase in bookings, indicating positive growth.\n",
        "\n",
        "2. January consistently has the lowest number of bookings, while August—particularly in 2016 and 2017—shows a noticeable peak in customer reservations."
      ],
      "metadata": {
        "id": "uyqkiB8YYuh3"
      }
    },
    {
      "cell_type": "markdown",
      "source": [
        "##### 3. Will the gained insights help creating a positive business impact?\n",
        "Are there any insights that lead to negative growth? Justify with specific reason."
      ],
      "metadata": {
        "id": "qYpmQ266Yuh3"
      }
    },
    {
      "cell_type": "markdown",
      "source": [
        "Understanding that bookings increase year-over-year highlights overall business growth, which can inform expansion and marketing strategies. Identifying low-performing months like January allows the business to run targeted promotions or campaigns to improve occupancy. No major signs of negative growth are seen, though seasonality (e.g., low bookings in January) suggests a need for proactive planning."
      ],
      "metadata": {
        "id": "_WtzZ_hCYuh4"
      }
    },
    {
      "cell_type": "markdown",
      "source": [
        "#### Chart - 7"
      ],
      "metadata": {
        "id": "OH-pJp9IphqM"
      }
    },
    {
      "cell_type": "code",
      "source": [
        "# Chart - 7 visualization code\n",
        "# Set figure size\n",
        "plt.figure(figsize=(12, 6))\n",
        "\n",
        "# Define correct month order\n",
        "month_order = ['January', 'February', 'March', 'April', 'May', 'June','July', 'August', 'September', 'October', 'November', 'December']\n",
        "\n",
        "# Create the countplot grouped by hotel type\n",
        "ax = sns.countplot(data=Hotel_booking_df,x='arrival_date_month',hue='hotel',order=month_order,palette='Set2')\n",
        "\n",
        "# Add count labels on top of each bar\n",
        "for container in ax.containers:\n",
        "    ax.bar_label(container, fmt='%d', label_type='edge', fontsize=9, padding=2)\n",
        "\n",
        "# Set titles and labels\n",
        "plt.title('Total Bookings by Arrival Month and Hotel Type', fontsize=16)\n",
        "plt.xlabel('Arrival Month', fontsize=12)\n",
        "plt.ylabel('Number of Bookings', fontsize=12)\n",
        "plt.xticks(rotation=45)\n",
        "plt.legend(title='Hotel Type')\n",
        "plt.tight_layout()\n",
        "\n",
        "# Show plot\n",
        "plt.show()\n"
      ],
      "metadata": {
        "id": "kuRf4wtuphqN"
      },
      "execution_count": null,
      "outputs": []
    },
    {
      "cell_type": "markdown",
      "source": [
        "##### 1. Why did you pick the specific chart?"
      ],
      "metadata": {
        "id": "bbFf2-_FphqN"
      }
    },
    {
      "cell_type": "markdown",
      "source": [
        "I chose a grouped bar chart because it effectively compares booking volumes across months while also showing the difference between Resort and City Hotels. This makes it easy to observe monthly trends and distinguish performance between hotel types."
      ],
      "metadata": {
        "id": "loh7H2nzphqN"
      }
    },
    {
      "cell_type": "markdown",
      "source": [
        "##### 2. What is/are the insight(s) found from the chart?"
      ],
      "metadata": {
        "id": "_ouA3fa0phqN"
      }
    },
    {
      "cell_type": "markdown",
      "source": [
        "The chart reveals that bookings peak during the summer months, especially in July and August, for both hotel types. City Hotels generally receive more bookings than Resort Hotels throughout the year, and January consistently sees the lowest booking volume."
      ],
      "metadata": {
        "id": "VECbqPI7phqN"
      }
    },
    {
      "cell_type": "markdown",
      "source": [
        "##### 3. Will the gained insights help creating a positive business impact?\n",
        "Are there any insights that lead to negative growth? Justify with specific reason."
      ],
      "metadata": {
        "id": "Seke61FWphqN"
      }
    },
    {
      "cell_type": "markdown",
      "source": [
        "Yes, the insights can guide marketing and resource allocation strategies to maximize bookings during high-demand months. However, the consistently low bookings in January may indicate a period of negative growth. Understanding the cause—such as off-season travel patterns—can help in designing promotions or offers to increase bookings during that time."
      ],
      "metadata": {
        "id": "DW4_bGpfphqN"
      }
    },
    {
      "cell_type": "markdown",
      "source": [
        "#### Chart - 8"
      ],
      "metadata": {
        "id": "PIIx-8_IphqN"
      }
    },
    {
      "cell_type": "code",
      "source": [
        "# Chart - 8 visualization code\n",
        "# Count each customer type\n",
        "customer_counts = Hotel_booking_df['customer_type'].value_counts()\n",
        "# Pie chart\n",
        "plt.figure(figsize=(8, 8))\n",
        "plt.pie(customer_counts.values,labels=customer_counts.index,autopct='%1.1f%%',colors=plt.cm.Set3.colors,startangle=140)\n",
        "plt.title('Distribution of Customer Types', fontsize=14)\n",
        "plt.axis('equal')  # Equal aspect ratio ensures that pie is drawn as a circle.\n",
        "plt.show()\n"
      ],
      "metadata": {
        "id": "lqAIGUfyphqO"
      },
      "execution_count": null,
      "outputs": []
    },
    {
      "cell_type": "markdown",
      "source": [
        "##### 1. Why did you pick the specific chart?"
      ],
      "metadata": {
        "id": "t27r6nlMphqO"
      }
    },
    {
      "cell_type": "markdown",
      "source": [
        "I chose a pie chart because it is ideal for representing the proportional distribution of categorical variables. It clearly shows how customer types are split across the dataset, making it easier to identify which segment dominates the bookings."
      ],
      "metadata": {
        "id": "iv6ro40sphqO"
      }
    },
    {
      "cell_type": "markdown",
      "source": [
        "##### 2. What is/are the insight(s) found from the chart?"
      ],
      "metadata": {
        "id": "r2jJGEOYphqO"
      }
    },
    {
      "cell_type": "markdown",
      "source": [
        "The pie chart reveals that Transient customers make up the largest share of bookings, followed by Transient-Party and Contract customers. Group bookings form the smallest portion. This indicates that most customers prefer individual or short-term stays over long-term or group contracts."
      ],
      "metadata": {
        "id": "Po6ZPi4hphqO"
      }
    },
    {
      "cell_type": "markdown",
      "source": [
        "##### 3. Will the gained insights help creating a positive business impact?\n",
        "Are there any insights that lead to negative growth? Justify with specific reason."
      ],
      "metadata": {
        "id": "b0JNsNcRphqO"
      }
    },
    {
      "cell_type": "markdown",
      "source": [
        "these insights can guide targeted marketing and service strategies. Knowing that transient customers dominate bookings, hotels can optimize last-minute offers, personalized services, and dynamic pricing to boost conversion. Conversely, the low share of group bookings highlights an area for growth through corporate or event partnerships."
      ],
      "metadata": {
        "id": "xvSq8iUTphqO"
      }
    },
    {
      "cell_type": "markdown",
      "source": [
        "#### Chart - 9"
      ],
      "metadata": {
        "id": "BZR9WyysphqO"
      }
    },
    {
      "cell_type": "code",
      "source": [
        "#instaling library\n",
        "!pip install pycountry"
      ],
      "metadata": {
        "id": "3PixtT0gNI5p"
      },
      "execution_count": null,
      "outputs": []
    },
    {
      "cell_type": "code",
      "source": [
        "# Chart - 9 visualization code\n",
        "import pycountry\n",
        "# Step 1: Calculate total guests\n",
        "Hotel_booking_df['total_guests'] = Hotel_booking_df['adults'] + Hotel_booking_df['children'] + Hotel_booking_df['babies']\n",
        "# Step 2: Get top 10 countries by total guests\n",
        "top_countries = Hotel_booking_df.groupby('country')['total_guests'].sum().sort_values(ascending=False).head(10)\n",
        "\n",
        "# Step 3: Convert ISO country codes to full names\n",
        "def get_country_name(code):\n",
        "    try:\n",
        "        return pycountry.countries.get(alpha_3=code).name\n",
        "    except:\n",
        "        try:\n",
        "            return pycountry.countries.get(alpha_2=code).name\n",
        "        except:\n",
        "            return code  # Return code if not found\n",
        "\n",
        "# Apply conversion\n",
        "top_countries.index = [get_country_name(code) for code in top_countries.index]\n",
        "\n",
        "# Step 4: Plot bar chart\n",
        "plt.figure(figsize=(10, 6))\n",
        "sns.barplot(x=top_countries.values, y=top_countries.index, hue=top_countries.index, palette='Set2', dodge=False, legend=False)\n",
        "\n",
        "# Step 5: Add labels\n",
        "for i, value in enumerate(top_countries.values):\n",
        "    plt.text(value + 50, i, str(int(value)), va='center')\n",
        "\n",
        "# Titles and labels\n",
        "plt.title('Top 10 Countries by Number of Guests', fontsize=16)\n",
        "plt.xlabel('Number of Guests')\n",
        "plt.ylabel('Country')\n",
        "\n",
        "plt.tight_layout()\n",
        "plt.show()"
      ],
      "metadata": {
        "id": "TdPTWpAVphqO"
      },
      "execution_count": null,
      "outputs": []
    },
    {
      "cell_type": "markdown",
      "source": [
        "##### 1. Why did you pick the specific chart?"
      ],
      "metadata": {
        "id": "jj7wYXLtphqO"
      }
    },
    {
      "cell_type": "markdown",
      "source": [
        "I selected a bar chart because it effectively displays the comparative number of guests from each country, making it easy to rank and visualize the top contributors. Bar charts are especially useful for showing differences in frequency across categorical variables like country names."
      ],
      "metadata": {
        "id": "Ob8u6rCTphqO"
      }
    },
    {
      "cell_type": "markdown",
      "source": [
        "##### 2. What is/are the insight(s) found from the chart?"
      ],
      "metadata": {
        "id": "eZrbJ2SmphqO"
      }
    },
    {
      "cell_type": "markdown",
      "source": [
        "The chart reveals that the majority of guests come from a handful of countries, with Portugal and the United Kingdom contributing significantly to total bookings. This concentration indicates where most of the hotel business originates geographically."
      ],
      "metadata": {
        "id": "mZtgC_hjphqO"
      }
    },
    {
      "cell_type": "markdown",
      "source": [
        "##### 3. Will the gained insights help creating a positive business impact?\n",
        "Are there any insights that lead to negative growth? Justify with specific reason."
      ],
      "metadata": {
        "id": "rFu4xreNphqO"
      }
    },
    {
      "cell_type": "markdown",
      "source": [
        " these insights can help create a positive business impact by allowing targeted marketing and partnerships in the top contributing countries to boost bookings further. Conversely, countries with minimal guest numbers may indicate untapped or underserved markets, or potential negative growth if customer engagement is declining there."
      ],
      "metadata": {
        "id": "ey_0qi68phqO"
      }
    },
    {
      "cell_type": "markdown",
      "source": [
        "#### Chart - 10"
      ],
      "metadata": {
        "id": "U2RJ9gkRphqQ"
      }
    },
    {
      "cell_type": "code",
      "source": [
        "# Chart - 10 visualization code\n",
        "# Group by market segment and hotel, summing the cancellations\n",
        "cancellation_data = Hotel_booking_df.groupby(['market_segment', 'hotel'])['is_canceled'].sum().unstack().fillna(0)\n",
        "\n",
        "# Sort by total cancellations in descending order\n",
        "cancellation_data['Total'] = cancellation_data.sum(axis=1)\n",
        "cancellation_data = cancellation_data.sort_values(by='Total', ascending=False).drop(columns='Total')\n",
        "\n",
        "# Plot\n",
        "ax = cancellation_data.plot(kind='bar', stacked=True, colormap='Set2', figsize=(12, 7))\n",
        "\n",
        "# Title and labels\n",
        "plt.title('Cancellations by Hotel Type and Market Segment (Descending)', fontsize=16)\n",
        "plt.xlabel('Market Segment', fontsize=12)\n",
        "plt.ylabel('Number of Cancellations', fontsize=12)\n",
        "plt.legend(title='Hotel Type')\n",
        "plt.xticks(rotation=45)\n",
        "\n",
        "# Add annotations\n",
        "for i, idx in enumerate(cancellation_data.index):\n",
        "    total = 0\n",
        "    for hotel_type in cancellation_data.columns:\n",
        "        value = cancellation_data.loc[idx, hotel_type]\n",
        "        if value > 0:\n",
        "            ax.text(i, total + value / 2, f'{int(value)}', ha='center', va='center', fontsize=9, color='black')\n",
        "            total += value\n",
        "\n",
        "plt.tight_layout()\n",
        "plt.show()\n",
        "\n"
      ],
      "metadata": {
        "id": "GM7a4YP4phqQ"
      },
      "execution_count": null,
      "outputs": []
    },
    {
      "cell_type": "markdown",
      "source": [
        "##### 1. Why did you pick the specific chart?"
      ],
      "metadata": {
        "id": "1M8mcRywphqQ"
      }
    },
    {
      "cell_type": "markdown",
      "source": [
        "I chose a stacked bar chart because it clearly compares cancellations across different market segments while also showing the contribution of each hotel type within those segments. It helps visualize both absolute numbers and the composition in a single view."
      ],
      "metadata": {
        "id": "8agQvks0phqQ"
      }
    },
    {
      "cell_type": "markdown",
      "source": [
        "##### 2. What is/are the insight(s) found from the chart?"
      ],
      "metadata": {
        "id": "tgIPom80phqQ"
      }
    },
    {
      "cell_type": "markdown",
      "source": [
        "The chart reveals that the highest number of cancellations comes from the Online TA (Travel Agency) segment, with a significant portion from City Hotels. Other segments like Groups and Offline TA/TO also show notable cancellations. Resort Hotels generally have fewer cancellations across segments."
      ],
      "metadata": {
        "id": "Qp13pnNzphqQ"
      }
    },
    {
      "cell_type": "markdown",
      "source": [
        "##### 3. Will the gained insights help creating a positive business impact?\n",
        "Are there any insights that lead to negative growth? Justify with specific reason."
      ],
      "metadata": {
        "id": "JMzcOPDDphqR"
      }
    },
    {
      "cell_type": "markdown",
      "source": [
        "**Positive Impact :**\n",
        "these insights can guide strategies to reduce cancellations. For instance, understanding that the Online TA segment has high cancellation rates allows the business to reconsider its policies or improve customer engagement in that segment.\n",
        "\n",
        "**Negative Impact :**\n",
        "High cancellations contribute to revenue loss and operational inefficiency, which could lead to negative growth if unaddressed."
      ],
      "metadata": {
        "id": "R4Ka1PC2phqR"
      }
    },
    {
      "cell_type": "markdown",
      "source": [
        "#### Chart - 11"
      ],
      "metadata": {
        "id": "x-EpHcCOp1ci"
      }
    },
    {
      "cell_type": "code",
      "source": [
        "# Chart - 11 visualization code\n",
        "# Group by parking request and hotel type\n",
        "parking_hotel_counts = Hotel_booking_df.groupby(['required_car_parking_spaces', 'hotel']).size().reset_index(name='count')\n",
        "\n",
        "# Plot bar chart with hue for hotel type\n",
        "plt.figure(figsize=(8, 5))\n",
        "ax = sns.barplot(data=parking_hotel_counts,x='required_car_parking_spaces',y='count',hue='hotel',palette='Set2')\n",
        "\n",
        "# Annotate each bar\n",
        "for container in ax.containers:\n",
        "    ax.bar_label(container, fmt='%d', label_type='edge', fontsize=9)\n",
        "\n",
        "# Set plot titles and labels\n",
        "plt.title('Car Parking Space Requests by Hotel Type', fontsize=14)\n",
        "plt.xlabel('Car Parking Space Requested (0 = No, 1 = Yes)', fontsize=12)\n",
        "plt.ylabel('Number of Bookings', fontsize=12)\n",
        "plt.legend(title='Hotel Type')\n",
        "\n",
        "plt.tight_layout()\n",
        "plt.show()\n"
      ],
      "metadata": {
        "id": "mAQTIvtqp1cj"
      },
      "execution_count": null,
      "outputs": []
    },
    {
      "cell_type": "markdown",
      "source": [
        "##### 1. Why did you pick the specific chart?"
      ],
      "metadata": {
        "id": "X_VqEhTip1ck"
      }
    },
    {
      "cell_type": "markdown",
      "source": [
        "I choose this bar chart to clearly compare the number of parking space requests across different hotel types. Using hue='hotel' helps highlight differences in guest preferences or needs between City and Resort hotels, which is essential for operational planning."
      ],
      "metadata": {
        "id": "-vsMzt_np1ck"
      }
    },
    {
      "cell_type": "markdown",
      "source": [
        "##### 2. What is/are the insight(s) found from the chart?"
      ],
      "metadata": {
        "id": "8zGJKyg5p1ck"
      }
    },
    {
      "cell_type": "markdown",
      "source": [
        "The chart shows that most guests do not request a parking space. However, among those who do, Resort Hotels have a noticeably higher number of parking requests compared to City Hotels, likely due to travel by private vehicle in less urban areas."
      ],
      "metadata": {
        "id": "ZYdMsrqVp1ck"
      }
    },
    {
      "cell_type": "markdown",
      "source": [
        "##### 3. Will the gained insights help creating a positive business impact?\n",
        "Are there any insights that lead to negative growth? Justify with specific reason."
      ],
      "metadata": {
        "id": "PVzmfK_Ep1ck"
      }
    },
    {
      "cell_type": "markdown",
      "source": [
        "The insights can guide parking space management. If Resort Hotels see more parking demand, management can allocate or expand parking accordingly. Not meeting this demand may lead to customer dissatisfaction, which could negatively impact future bookings and reviews."
      ],
      "metadata": {
        "id": "druuKYZpp1ck"
      }
    },
    {
      "cell_type": "markdown",
      "source": [
        "#### Chart - 12"
      ],
      "metadata": {
        "id": "n3dbpmDWp1ck"
      }
    },
    {
      "cell_type": "code",
      "source": [
        "# Chart - 13 visualization code\n",
        "# Set plot style\n",
        "sns.set(style=\"whitegrid\")\n",
        "\n",
        "# Create a figure\n",
        "plt.figure(figsize=(8, 6))\n",
        "\n",
        "# Count the values for total_of_special_requests\n",
        "special_request_counts = Hotel_booking_df['total_of_special_requests'].value_counts().sort_index()\n",
        "special_requests_df = special_request_counts.reset_index()\n",
        "special_requests_df.columns = ['total_of_special_requests', 'count']\n",
        "\n",
        "# Create bar plot with hue same as x, and legend=False to avoid duplicate legend\n",
        "ax = sns.barplot(data=special_requests_df,x='total_of_special_requests',y='count',palette='Set2',hue='total_of_special_requests',legend=False)\n",
        "\n",
        "# Annotate bars with counts\n",
        "for i, count in enumerate(special_requests_df['count']):\n",
        "    ax.text(i, count + 100, str(count), ha='center', va='bottom', fontsize=10)\n",
        "\n",
        "# Set title and labels\n",
        "plt.title('Distribution of Special Requests', fontsize=16)\n",
        "plt.xlabel('Number of Special Requests', fontsize=12)\n",
        "plt.ylabel('Number of Bookings', fontsize=12)\n",
        "\n",
        "# Show the plot\n",
        "plt.tight_layout()\n",
        "plt.show()\n"
      ],
      "metadata": {
        "id": "EUfxeq9-p1cl"
      },
      "execution_count": null,
      "outputs": []
    },
    {
      "cell_type": "markdown",
      "source": [
        "##### 1. Why did you pick the specific chart?"
      ],
      "metadata": {
        "id": "E6MkPsBcp1cl"
      }
    },
    {
      "cell_type": "markdown",
      "source": [
        "I chose a bar chart because it clearly displays the frequency of bookings for each count of special requests. Bar charts are ideal for visualizing discrete categorical variables like the number of special requests, making comparison straightforward."
      ],
      "metadata": {
        "id": "V22bRsFWp1cl"
      }
    },
    {
      "cell_type": "markdown",
      "source": [
        "##### 2. What is/are the insight(s) found from the chart?"
      ],
      "metadata": {
        "id": "2cELzS2fp1cl"
      }
    },
    {
      "cell_type": "markdown",
      "source": [
        "The chart shows that the majority of customers either make no special request or only one, indicating minimal demand for personalized services. Very few customers request two or more special services, which may reflect either satisfaction with standard offerings or lack of awareness."
      ],
      "metadata": {
        "id": "ozQPc2_Ip1cl"
      }
    },
    {
      "cell_type": "markdown",
      "source": [
        "##### 3. Will the gained insights help creating a positive business impact?\n",
        "Are there any insights that lead to negative growth? Justify with specific reason."
      ],
      "metadata": {
        "id": "3MPXvC8up1cl"
      }
    },
    {
      "cell_type": "markdown",
      "source": [
        " **Positive Insights :** These insights can help optimize service offerings. Since most guests make few or no special requests, hotels can streamline operations around standard packages, saving costs.\n",
        "  \n",
        " **Negative Insights :** if low request numbers are due to a lack of awareness, there’s a missed opportunity to upsell premium services, potentially limiting revenue growth."
      ],
      "metadata": {
        "id": "GL8l1tdLp1cl"
      }
    },
    {
      "cell_type": "markdown",
      "source": [
        "#### Chart - 13 - Correlation Heatmap"
      ],
      "metadata": {
        "id": "NC_X3p0fY2L0"
      }
    },
    {
      "cell_type": "code",
      "source": [
        "# Correlation Heatmap visualization code\n",
        "import seaborn as sns\n",
        "import matplotlib.pyplot as plt\n",
        "\n",
        "# Select only numeric columns from the DataFrame\n",
        "numeric_df = Hotel_booking_df.select_dtypes(include='number')\n",
        "\n",
        "# Calculate the correlation matrix\n",
        "corr_matrix = numeric_df.corr()\n",
        "\n",
        "# Set up the matplotlib figure\n",
        "plt.figure(figsize=(12, 8))\n",
        "\n",
        "# Create the heatmap\n",
        "sns.heatmap(corr_matrix, annot=True, cmap='coolwarm', fmt='.2f', linewidths=0.5)\n",
        "\n",
        "# Set title and layout\n",
        "plt.title('Correlation Heatmap of Hotel Booking Data', fontsize=16)\n",
        "plt.tight_layout()\n",
        "\n",
        "# Display the heatmap\n",
        "plt.show()\n"
      ],
      "metadata": {
        "id": "xyC9zolEZNRQ"
      },
      "execution_count": null,
      "outputs": []
    },
    {
      "cell_type": "markdown",
      "source": [
        "##### 1. Why did you pick the specific chart?"
      ],
      "metadata": {
        "id": "UV0SzAkaZNRQ"
      }
    },
    {
      "cell_type": "markdown",
      "source": [
        "I selected the correlation heatmap because it visually highlights the relationships between numerical variables in the dataset. It makes it easier to identify strong positive or negative correlations, helping in feature selection, understanding dependencies, and detecting multicollinearity before modeling."
      ],
      "metadata": {
        "id": "DVPuT8LYZNRQ"
      }
    },
    {
      "cell_type": "markdown",
      "source": [
        "##### 2. What is/are the insight(s) found from the chart?"
      ],
      "metadata": {
        "id": "YPEH6qLeZNRQ"
      }
    },
    {
      "cell_type": "markdown",
      "source": [
        "From the chart, we observe a strong positive correlation between total_stays and both stays_in_week_nights and stays_in_weekend_nights, which is expected. Additionally, lead_time shows a mild positive correlation with cancellations, suggesting bookings made far in advance may have a higher chance of being canceled. Some variables show little to no correlation, which may have less predictive power."
      ],
      "metadata": {
        "id": "bfSqtnDqZNRR"
      }
    },
    {
      "cell_type": "markdown",
      "source": [
        "#### Chart - 14 - Pair Plot"
      ],
      "metadata": {
        "id": "q29F0dvdveiT"
      }
    },
    {
      "cell_type": "code",
      "source": [
        "# Pair Plot visualization code\n",
        "# Select relevant numerical columns\n",
        "num_cols = ['lead_time', 'stays_in_weekend_nights', 'stays_in_week_nights', 'adr']\n",
        "\n",
        "# Create pair plot with hue as hotel type\n",
        "sns.pairplot(Hotel_booking_df[num_cols + ['hotel']], hue='hotel', corner=True)\n",
        "plt.suptitle(\"Pair Plot of Booking Features by Hotel Type\", y=1.02)\n",
        "plt.show()\n"
      ],
      "metadata": {
        "id": "o58-TEIhveiU"
      },
      "execution_count": null,
      "outputs": []
    },
    {
      "cell_type": "markdown",
      "source": [
        "##### 1. Why did you pick the specific chart?"
      ],
      "metadata": {
        "id": "EXh0U9oCveiU"
      }
    },
    {
      "cell_type": "markdown",
      "source": [
        "I chose a pair plot because it visually explores relationships between multiple numerical variables at once. It helps identify patterns, correlations, clusters, or outliers and how they differ across hotel types. It is especially useful when comparing variables like lead_time, adr, and stay durations."
      ],
      "metadata": {
        "id": "eMmPjTByveiU"
      }
    },
    {
      "cell_type": "markdown",
      "source": [
        "##### 2. What is/are the insight(s) found from the chart?"
      ],
      "metadata": {
        "id": "22aHeOlLveiV"
      }
    },
    {
      "cell_type": "markdown",
      "source": [
        "1. Resort hotels tend to have longer lead times and more weekend night stays compared to city hotels.\n",
        "\n",
        "2. City hotels show a tighter cluster in adr and shorter stays, indicating more last-minute or business-related bookings.\n",
        "\n",
        "3. There's a slight positive relationship between lead_time and adr, especially for resort hotels."
      ],
      "metadata": {
        "id": "uPQ8RGwHveiV"
      }
    },
    {
      "cell_type": "markdown",
      "source": [
        "## **5. Solution to Business Objective**"
      ],
      "metadata": {
        "id": "JcMwzZxoAimU"
      }
    },
    {
      "cell_type": "markdown",
      "source": [
        "#### What do you suggest the client to achieve Business Objective ?\n",
        "Explain Briefly."
      ],
      "metadata": {
        "id": "8G2x9gOozGDZ"
      }
    },
    {
      "cell_type": "markdown",
      "source": [
        "To achieve the business objectives, the client should focus on reducing cancellations, particularly from specific market segments and hotel types, by improving booking policies, offering flexible booking options, and understanding the reasons behind cancellations. Implementing customer retention strategies like loyalty programs or targeted offers can reduce the negative impact of cancellations. Additionally, leveraging data-driven promotions during low-booking months (e.g., January) and for Resort Hotels will help boost occupancy rates. Insights into special requests and customer types allow for more personalized offerings, which can increase customer satisfaction and drive additional sales through upselling. Targeting customers from high-performing countries can further expand reach and improve bookings. Improving lead time management and analyzing booking trends will help optimize marketing efforts, ensuring better forecasting and operational planning. Lastly, by focusing on ADR (Average Daily Rate) optimization, the business can maximize profitability per booking and adjust pricing strategies to cater to both business and leisure customers effectively."
      ],
      "metadata": {
        "id": "pASKb0qOza21"
      }
    },
    {
      "cell_type": "markdown",
      "source": [
        "# **Conclusion**"
      ],
      "metadata": {
        "id": "gCX9965dhzqZ"
      }
    },
    {
      "cell_type": "markdown",
      "source": [
        "In this hotel booking analysis project, we explored the various patterns and insights that could drive business decisions for both Resort and City Hotels. By analyzing key metrics like reservation status, lead time, special requests, customer types, and hotel occupancy trends, we identified critical factors influencing customer behavior, booking trends, and potential growth opportunities. The visualizations, including bar charts, heatmaps, histograms, and box plots, provided a comprehensive understanding of the data, helping to uncover actionable insights.\n",
        "\n",
        "One of the major findings was the significant number of last-minute bookings, particularly for Resort Hotels, which could be problematic as it might lead to inefficient resource allocation and a lack of availability for customers who booked well in advance. Additionally, the varying performance of City Hotels and Resort Hotels over time highlighted seasonal trends, allowing the business to plan marketing and promotional strategies more effectively.\n",
        "\n",
        "By identifying customer types and their preferences, we also gained a better understanding of the target market, and where efforts should be focused to maximize bookings and customer satisfaction. The analysis also suggested that City Hotels are experiencing steady growth, while Resort Hotels might need strategic adjustments to boost their performance, especially during off-peak periods.\n",
        "\n",
        "In conclusion, the insights gained from this analysis will be crucial in shaping future business strategies. With careful attention to booking trends, customer preferences, and operational efficiency, the hotels can make informed decisions that will not only enhance their service offerings but also ensure positive growth in the coming years. Moving forward, continuous monitoring of customer behavior and adapting to changes in the market will help the business stay competitive and maximize profitability."
      ],
      "metadata": {
        "id": "Fjb1IsQkh3yE"
      }
    },
    {
      "cell_type": "markdown",
      "source": [
        "### ***Hurrah! You have successfully completed your EDA Capstone Project !!!***"
      ],
      "metadata": {
        "id": "gIfDvo9L0UH2"
      }
    }
  ]
}